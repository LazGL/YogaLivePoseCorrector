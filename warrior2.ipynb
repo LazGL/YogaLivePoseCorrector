{
 "cells": [
  {
   "cell_type": "code",
   "execution_count": null,
   "metadata": {},
   "outputs": [
    {
     "name": "stderr",
     "output_type": "stream",
     "text": [
      "WARNING: All log messages before absl::InitializeLog() is called are written to STDERR\n",
      "I0000 00:00:1732289807.267742 2677061 gl_context.cc:357] GL version: 2.1 (2.1 Metal - 83), renderer: Apple M2\n",
      "INFO: Created TensorFlow Lite XNNPACK delegate for CPU.\n",
      "W0000 00:00:1732289807.353243 2677153 inference_feedback_manager.cc:114] Feedback manager requires a model with a single signature inference. Disabling support for feedback tensors.\n",
      "W0000 00:00:1732289807.367492 2677153 inference_feedback_manager.cc:114] Feedback manager requires a model with a single signature inference. Disabling support for feedback tensors.\n",
      "W0000 00:00:1732289809.224850 2677152 landmark_projection_calculator.cc:186] Using NORM_RECT without IMAGE_DIMENSIONS is only supported for the square ROI. Provide IMAGE_DIMENSIONS or use PROJECTION_MATRIX.\n"
     ]
    },
    {
     "ename": "KeyboardInterrupt",
     "evalue": "",
     "output_type": "error",
     "traceback": [
      "\u001b[0;31m---------------------------------------------------------------------------\u001b[0m",
      "\u001b[0;31mKeyboardInterrupt\u001b[0m                         Traceback (most recent call last)",
      "Cell \u001b[0;32mIn[1], line 30\u001b[0m\n\u001b[1;32m     28\u001b[0m cap \u001b[38;5;241m=\u001b[39m cv2\u001b[38;5;241m.\u001b[39mVideoCapture(\u001b[38;5;241m1\u001b[39m)\n\u001b[1;32m     29\u001b[0m \u001b[38;5;28;01mwhile\u001b[39;00m cap\u001b[38;5;241m.\u001b[39misOpened():\n\u001b[0;32m---> 30\u001b[0m     ret, frame \u001b[38;5;241m=\u001b[39m \u001b[43mcap\u001b[49m\u001b[38;5;241;43m.\u001b[39;49m\u001b[43mread\u001b[49m\u001b[43m(\u001b[49m\u001b[43m)\u001b[49m\n\u001b[1;32m     31\u001b[0m     \u001b[38;5;28;01mif\u001b[39;00m \u001b[38;5;129;01mnot\u001b[39;00m ret:\n\u001b[1;32m     32\u001b[0m         \u001b[38;5;28;01mbreak\u001b[39;00m\n",
      "\u001b[0;31mKeyboardInterrupt\u001b[0m: "
     ]
    },
    {
     "ename": "",
     "evalue": "",
     "output_type": "error",
     "traceback": [
      "\u001b[1;31mThe Kernel crashed while executing code in the current cell or a previous cell. \n",
      "\u001b[1;31mPlease review the code in the cell(s) to identify a possible cause of the failure. \n",
      "\u001b[1;31mClick <a href='https://aka.ms/vscodeJupyterKernelCrash'>here</a> for more info. \n",
      "\u001b[1;31mView Jupyter <a href='command:jupyter.viewOutput'>log</a> for further details."
     ]
    }
   ],
   "source": [
    "import cv2\n",
    "import mediapipe as mp\n",
    "import math\n",
    "\n",
    "# Initialize MediaPipe Pose\n",
    "mp_pose = mp.solutions.pose\n",
    "pose = mp_pose.Pose()\n",
    "mp_drawing = mp.solutions.drawing_utils\n",
    "\n",
    "# Reference keypoints (example for Warrior II pose)\n",
    "reference_pose = {\n",
    "    \"left_arm_angle\": 90,  # Ideal angle between left shoulder, elbow, and wrist\n",
    "    \"right_arm_angle\": 180,  # Ideal angle for the right arm\n",
    "    \"left_leg_angle\": 90,  # Angle between hip, knee, and ankle\n",
    "}\n",
    "\n",
    "# Helper function to calculate angle between three points\n",
    "def calculate_angle(a, b, c):\n",
    "    a = [a.x, a.y]\n",
    "    b = [b.x, b.y]\n",
    "    c = [c.x, c.y]\n",
    "    angle = math.degrees(\n",
    "        math.atan2(c[1] - b[1], c[0] - b[0]) - math.atan2(a[1] - b[1], a[0] - b[0])\n",
    "    )\n",
    "    return abs(angle)\n",
    "\n",
    "# Open the webcam\n",
    "cap = cv2.VideoCapture(1)\n",
    "while cap.isOpened():\n",
    "    ret, frame = cap.read()\n",
    "    if not ret:\n",
    "        break\n",
    "\n",
    "    # Convert the frame to RGB\n",
    "    frame_rgb = cv2.cvtColor(frame, cv2.COLOR_BGR2RGB)\n",
    "\n",
    "    # Process the frame with MediaPipe Pose\n",
    "    result = pose.process(frame_rgb)\n",
    "\n",
    "    # Draw keypoints on the frame\n",
    "    if result.pose_landmarks:\n",
    "        mp_drawing.draw_landmarks(frame, result.pose_landmarks, mp_pose.POSE_CONNECTIONS)\n",
    "\n",
    "        # Extract keypoints\n",
    "        landmarks = result.pose_landmarks.landmark\n",
    "\n",
    "        # Calculate angles for feedback\n",
    "        left_arm_angle = calculate_angle(\n",
    "            landmarks[mp_pose.PoseLandmark.LEFT_SHOULDER],\n",
    "            landmarks[mp_pose.PoseLandmark.LEFT_ELBOW],\n",
    "            landmarks[mp_pose.PoseLandmark.LEFT_WRIST],\n",
    "        )\n",
    "        right_arm_angle = calculate_angle(\n",
    "            landmarks[mp_pose.PoseLandmark.RIGHT_SHOULDER],\n",
    "            landmarks[mp_pose.PoseLandmark.RIGHT_ELBOW],\n",
    "            landmarks[mp_pose.PoseLandmark.RIGHT_WRIST],\n",
    "        )\n",
    "        left_leg_angle = calculate_angle(\n",
    "            landmarks[mp_pose.PoseLandmark.LEFT_HIP],\n",
    "            landmarks[mp_pose.PoseLandmark.LEFT_KNEE],\n",
    "            landmarks[mp_pose.PoseLandmark.LEFT_ANKLE],\n",
    "        )\n",
    "\n",
    "        # Compare with reference pose\n",
    "        feedback = []\n",
    "        if abs(left_arm_angle - reference_pose[\"left_arm_angle\"]) > 10:\n",
    "            feedback.append(\"Raise your left arm to 90 degrees.\")\n",
    "        if abs(right_arm_angle - reference_pose[\"right_arm_angle\"]) > 10:\n",
    "            feedback.append(\"Straighten your right arm.\")\n",
    "        if abs(left_leg_angle - reference_pose[\"left_leg_angle\"]) > 10:\n",
    "            feedback.append(\"Bend your left knee more.\")\n",
    "\n",
    "        # Display feedback on the frame\n",
    "        for i, text in enumerate(feedback):\n",
    "            cv2.putText(frame, text, (10, 30 + i * 30), cv2.FONT_HERSHEY_SIMPLEX, 0.6, (0, 0, 255), 2)\n",
    "\n",
    "    # Display the frame\n",
    "    cv2.imshow(\"Yoga Pose Corrector\", frame)\n",
    "\n",
    "    # Exit on 'q' key\n",
    "    if cv2.waitKey(1) & 0xFF == ord('q'):\n",
    "        break\n",
    "\n",
    "cap.release()\n",
    "cv2.destroyAllWindows()\n"
   ]
  },
  {
   "cell_type": "code",
   "execution_count": null,
   "metadata": {},
   "outputs": [],
   "source": []
  }
 ],
 "metadata": {
  "kernelspec": {
   "display_name": "yoga-env2",
   "language": "python",
   "name": "python3"
  },
  "language_info": {
   "codemirror_mode": {
    "name": "ipython",
    "version": 3
   },
   "file_extension": ".py",
   "mimetype": "text/x-python",
   "name": "python",
   "nbconvert_exporter": "python",
   "pygments_lexer": "ipython3",
   "version": "3.11.5"
  }
 },
 "nbformat": 4,
 "nbformat_minor": 2
}
